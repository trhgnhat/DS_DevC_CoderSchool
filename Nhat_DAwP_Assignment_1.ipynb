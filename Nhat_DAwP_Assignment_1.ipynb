{
  "nbformat": 4,
  "nbformat_minor": 0,
  "metadata": {
    "colab": {
      "name": "Nhat_DAwP_Assignment_1.ipynb",
      "version": "0.3.2",
      "provenance": [],
      "collapsed_sections": [
        "9zAhbXlx5zQF"
      ],
      "include_colab_link": true
    },
    "kernelspec": {
      "name": "python3",
      "display_name": "Python 3"
    }
  },
  "cells": [
    {
      "cell_type": "markdown",
      "metadata": {
        "id": "view-in-github",
        "colab_type": "text"
      },
      "source": [
        "<a href=\"https://colab.research.google.com/github/trhgnhat/DS_DevC_CoderSchool/blob/master/Nhat_DAwP_Assignment_1.ipynb\" target=\"_parent\"><img src=\"https://colab.research.google.com/assets/colab-badge.svg\" alt=\"Open In Colab\"/></a>"
      ]
    },
    {
      "cell_type": "markdown",
      "metadata": {
        "id": "jjZG7BNlbWtO",
        "colab_type": "text"
      },
      "source": [
        "![](https://i.imgur.com/0AUxkXt.png)"
      ]
    },
    {
      "cell_type": "markdown",
      "metadata": {
        "id": "jbpQzyjqbflM",
        "colab_type": "text"
      },
      "source": [
        "# Assignment 1 - The Hacker Rank\n",
        "\n",
        "HackerRank is a place where programmers from all over the world come together to solve problems in a wide range of Computer Science domains.\n",
        "\n",
        "As you solve more challenges, you earn points and move up the HackerRank Leaderboard.\n",
        "\n",
        "Looking for a job at an awesome company? You can get hired by solving [challenges](https://www.hackerrank.com/jobs/search)!\n",
        "\n",
        "It's cool. Let's establish your knowledge and fight for glory!\n",
        "\n",
        "But before that let's make it clear that.."
      ]
    },
    {
      "cell_type": "markdown",
      "metadata": {
        "id": "-ndmD4naciAN",
        "colab_type": "text"
      },
      "source": [
        "## Note-taking is IMPORTANT\n",
        "\n",
        "Blog: [Why is note-taking important](https://nickblackbourn.com/blog/why-is-note-taking-important/)\n",
        "\n",
        "Note taking isn’t just important for college students, it’s a valuable life skill.\n",
        "\n",
        "Effective note taking helps you to remember information and aids your understanding of that information. \n",
        "\n",
        "**Notes boost your understanding**\n",
        "\n",
        "By making notes, you force yourself to construct a conceptual mental representation of the ideas you are grappling with. It is this process that helps you comprehend the subject matter you are working with.\n",
        "\n",
        "**Notes are a repository of your thinking**\n",
        "\n",
        "When you need to recall something that you came across a while ago, you can go over the main ideas by looking over your notes. This is why good, comprehensive notes are so useful; they are a catalogue of the best ideas you’ve encountered, and what you thought about them.\n",
        "\n",
        "etc.\n",
        "\n",
        "\n",
        "\n",
        "\n",
        "\n",
        "\n",
        "\n"
      ]
    },
    {
      "cell_type": "markdown",
      "metadata": {
        "id": "IGvKPsdVfX-F",
        "colab_type": "text"
      },
      "source": [
        "## Requirements\n",
        "\n",
        "Pick 10 challenges on HackerRank about SQL and 5 about Python in **easy** level:\n",
        "\n",
        "[HackerRank - Domain SQL](https://www.hackerrank.com/domains/sql?filters%5Bdifficulty%5D%5B%5D=easy&filters%5Bsubdomains%5D%5B%5D=select)\n",
        "\n",
        "[HackerRank - Domain Python](https://www.hackerrank.com/domains/python?filters%5Bdifficulty%5D%5B%5D=easy)\n",
        "\n",
        "For each challenge:\n",
        "\n",
        "* Create a markdown cell first that describes the challenge.\n",
        "* Solve the challenge on HackerRank and copy your solution to a code cell below\n",
        "* (Optional) A short description about how you came up with the solution would be awesome."
      ]
    },
    {
      "cell_type": "markdown",
      "metadata": {
        "id": "higGK1Y5iAea",
        "colab_type": "text"
      },
      "source": [
        "## Example"
      ]
    },
    {
      "cell_type": "markdown",
      "metadata": {
        "id": "D2yU2FYDi4tj",
        "colab_type": "text"
      },
      "source": [
        "### SQL"
      ]
    },
    {
      "cell_type": "markdown",
      "metadata": {
        "id": "gu4DDH7Ki77C",
        "colab_type": "text"
      },
      "source": [
        "\n",
        "#### Problem 1\n",
        "\n",
        "Query all columns for all American cities in **CITY** with populations larger than 100000. The CountryCode for America is USA.\n",
        "\n",
        "**Input Format**\n",
        "\n",
        "The **CITY** table is described as follows:\n",
        "\n",
        "| Field | Type |\n",
        "|:----:|:---:|\n",
        "| ID | NUMBER |\n",
        "| NAME | VARCHAR2(17) |\n",
        "| COUNTRYCODE | VARCHAR2(3) |\n",
        "| DISTRICT | VARCHAR2(20) |\n",
        "| POPULATION | NUMBER |"
      ]
    },
    {
      "cell_type": "code",
      "metadata": {
        "id": "hhAwMjyhbT1b",
        "colab_type": "code",
        "colab": {}
      },
      "source": [
        "# Solution\n",
        "# SELECT * from city WHERE population>100000 AND countrycode='USA';"
      ],
      "execution_count": 0,
      "outputs": []
    },
    {
      "cell_type": "markdown",
      "metadata": {
        "id": "0AxyfiJijJ7T",
        "colab_type": "text"
      },
      "source": [
        "### Python"
      ]
    },
    {
      "cell_type": "markdown",
      "metadata": {
        "id": "PEW8LsB5jLqf",
        "colab_type": "text"
      },
      "source": [
        "#### Problem 1\n",
        "\n",
        "**Task** \n",
        "Given an integer, , perform the following conditional actions:\n",
        "\n",
        "* If `n` is odd, print *Weird*\n",
        "* If `n` is even and in the inclusive range of 2 to 5, print *Not Weird*\n",
        "* If `n` is even and in the inclusive range of 6 to 20, print *Weird*\n",
        "* If `n` is even and greater than 20, print *Not Weird*\n",
        "\n",
        "**Input Format**\n",
        "\n",
        "A single line containing a positive integer, .\n",
        "\n",
        "**Output Format**\n",
        "\n",
        "Print Weird if the number is weird; otherwise, print Not Weird."
      ]
    },
    {
      "cell_type": "code",
      "metadata": {
        "id": "JBOxgw0zjLC2",
        "colab_type": "code",
        "colab": {}
      },
      "source": [
        "n = int(input())\n",
        "\n",
        "if n % 2 == 1:\n",
        "    print('Weird')\n",
        "else:\n",
        "    if (n >= 2) and (n <= 5):\n",
        "        print('Not Weird')\n",
        "    elif (n >= 6) and (n <= 20):\n",
        "        print('Weird')\n",
        "    else:\n",
        "        print('Not Weird')"
      ],
      "execution_count": 0,
      "outputs": []
    },
    {
      "cell_type": "markdown",
      "metadata": {
        "id": "a-Q3VE7YkA9A",
        "colab_type": "text"
      },
      "source": [
        "## Your turn\n",
        "\n",
        "Good luck and have fun!"
      ]
    },
    {
      "cell_type": "code",
      "metadata": {
        "id": "RdkdZgjaj0To",
        "colab_type": "code",
        "colab": {}
      },
      "source": [
        ""
      ],
      "execution_count": 0,
      "outputs": []
    },
    {
      "cell_type": "markdown",
      "metadata": {
        "id": "9zAhbXlx5zQF",
        "colab_type": "text"
      },
      "source": [
        "### SQL\n"
      ]
    },
    {
      "cell_type": "markdown",
      "metadata": {
        "id": "DD5TsQLl6BFY",
        "colab_type": "text"
      },
      "source": [
        "#### Ex 1\n",
        "Query all columns for all American cities in CITY with populations larger than 100000. The CountryCode for America is USA.\n",
        "\n",
        "The CITY table is described as follows: ![alt text](https://s3.amazonaws.com/hr-challenge-images/8137/1449729804-f21d187d0f-CITY.jpg)"
      ]
    },
    {
      "cell_type": "code",
      "metadata": {
        "id": "aEi_vU156Wsq",
        "colab_type": "code",
        "colab": {}
      },
      "source": [
        "SELECT * FROM CITY WHERE COUNTRYCODE = \"USA\" and POPULATION > 100000"
      ],
      "execution_count": 0,
      "outputs": []
    },
    {
      "cell_type": "markdown",
      "metadata": {
        "id": "ZyIUG3za8AoQ",
        "colab_type": "text"
      },
      "source": [
        "#### Ex 2\n",
        "Query the names of all American cities in CITY with populations larger than 120000. The CountryCode for America is USA.\n",
        "\n",
        "The CITY table is described as follows: ![alt text](https://s3.amazonaws.com/hr-challenge-images/8137/1449729804-f21d187d0f-CITY.jpg)"
      ]
    },
    {
      "cell_type": "code",
      "metadata": {
        "id": "CcSSm4jb8FBO",
        "colab_type": "code",
        "colab": {}
      },
      "source": [
        "SELECT NAME FROM CITY WHERE COUNTRYCODE = \"USA\" and POPULATION > 120000"
      ],
      "execution_count": 0,
      "outputs": []
    },
    {
      "cell_type": "markdown",
      "metadata": {
        "id": "52QogYeS8Nr4",
        "colab_type": "text"
      },
      "source": [
        "#### Ex 3\n",
        "\n",
        "Query all columns for a city in CITY with the ID 1661.\n",
        "\n",
        "The CITY table is described as follows: ![alt text](https://s3.amazonaws.com/hr-challenge-images/8137/1449729804-f21d187d0f-CITY.jpg)\n"
      ]
    },
    {
      "cell_type": "code",
      "metadata": {
        "id": "CWVXcL9O8Y5h",
        "colab_type": "code",
        "colab": {}
      },
      "source": [
        "SELECT * FROM CITY WHERE ID=1661"
      ],
      "execution_count": 0,
      "outputs": []
    },
    {
      "cell_type": "markdown",
      "metadata": {
        "id": "kcfskj0j8P_G",
        "colab_type": "text"
      },
      "source": [
        "#### Ex 4\n",
        "Query all attributes of every Japanese city in the CITY table. The COUNTRYCODE for Japan is JPN.\n",
        "\n",
        "The CITY table is described as follows: ![alt text](https://s3.amazonaws.com/hr-challenge-images/8137/1449729804-f21d187d0f-CITY.jpg)"
      ]
    },
    {
      "cell_type": "code",
      "metadata": {
        "id": "nzcMXXEq8Zm5",
        "colab_type": "code",
        "colab": {}
      },
      "source": [
        "SELECT * FROM CITY WHERE COUNTRYCODE=\"JPN\""
      ],
      "execution_count": 0,
      "outputs": []
    },
    {
      "cell_type": "markdown",
      "metadata": {
        "id": "KiKLV-Fr8RPQ",
        "colab_type": "text"
      },
      "source": [
        "#### Ex 5\n",
        "Query the names of every Japanese city in the CITY table. The COUNTRYCODE for Japan is JPN.\n",
        "\n",
        "The CITY table is described as follows: ![alt text](https://s3.amazonaws.com/hr-challenge-images/8137/1449729804-f21d187d0f-CITY.jpg)"
      ]
    },
    {
      "cell_type": "code",
      "metadata": {
        "id": "enS8vM4g8aDt",
        "colab_type": "code",
        "colab": {}
      },
      "source": [
        "SELECT NAME FROM CITY WHERE COUNTRYCODE=\"JPN\""
      ],
      "execution_count": 0,
      "outputs": []
    },
    {
      "cell_type": "markdown",
      "metadata": {
        "id": "tBUngKPm8R_5",
        "colab_type": "text"
      },
      "source": [
        "#### Ex 6\n",
        "Query a list of CITY and STATE from the STATION table.\n",
        "\n",
        "Input Format\n",
        "\n",
        "The STATION table is described as follows:\n",
        "![alt text](https://s3.amazonaws.com/hr-challenge-images/9336/1449345840-5f0a551030-Station.jpg)"
      ]
    },
    {
      "cell_type": "code",
      "metadata": {
        "id": "jRToXUz78agT",
        "colab_type": "code",
        "colab": {}
      },
      "source": [
        "SELECT CITY, STATE FROM STATION"
      ],
      "execution_count": 0,
      "outputs": []
    },
    {
      "cell_type": "markdown",
      "metadata": {
        "id": "_bqvB_nY8Ud1",
        "colab_type": "text"
      },
      "source": [
        "#### Ex 7\n",
        "Query the list of CITY names from STATION which have vowels (i.e., a, e, i, o, and u) as both their first and last characters. Your result cannot contain duplicates.\n",
        "\n",
        "The STATION table is described as follows:\n",
        "![alt text](https://s3.amazonaws.com/hr-challenge-images/9336/1449345840-5f0a551030-Station.jpg)"
      ]
    },
    {
      "cell_type": "code",
      "metadata": {
        "id": "jlFWW__W8a34",
        "colab_type": "code",
        "colab": {}
      },
      "source": [
        "SELECT DISTINCT CITY FROM STATION WHERE CITY RLIKE '^[aeiouAEIOU].*[aeiouAEIOU]$'"
      ],
      "execution_count": 0,
      "outputs": []
    },
    {
      "cell_type": "markdown",
      "metadata": {
        "id": "cuV3ayY08VDV",
        "colab_type": "text"
      },
      "source": [
        "#### Ex 8\n",
        "Query the list of CITY names from STATION that do not start with vowels. Your result cannot contain duplicates.\n",
        "\n",
        "The STATION table is described as follows:\n",
        "![alt text](https://s3.amazonaws.com/hr-challenge-images/9336/1449345840-5f0a551030-Station.jpg)"
      ]
    },
    {
      "cell_type": "code",
      "metadata": {
        "id": "i9_KTKM28bOm",
        "colab_type": "code",
        "colab": {}
      },
      "source": [
        "SELECT DISTINCT CITY FROM STATION WHERE CITY NOT RLIKE '^[aeiouAEIOU].*'"
      ],
      "execution_count": 0,
      "outputs": []
    },
    {
      "cell_type": "markdown",
      "metadata": {
        "id": "Pr-t9h-V8VpZ",
        "colab_type": "text"
      },
      "source": [
        "#### Ex 9\n",
        "Query the list of CITY names from STATION that do not end with vowels. Your result cannot contain duplicates.\n",
        "\n",
        "The STATION table is described as follows:\n",
        "![alt text](https://s3.amazonaws.com/hr-challenge-images/9336/1449345840-5f0a551030-Station.jpg)"
      ]
    },
    {
      "cell_type": "code",
      "metadata": {
        "id": "KrT7TyFu8bqQ",
        "colab_type": "code",
        "colab": {}
      },
      "source": [
        "SELECT DISTINCT CITY FROM STATION WHERE CITY NOT RLIKE '.*[aeiouAEIOU]$'"
      ],
      "execution_count": 0,
      "outputs": []
    },
    {
      "cell_type": "markdown",
      "metadata": {
        "id": "-LvlaVtn8WRa",
        "colab_type": "text"
      },
      "source": [
        "#### Ex 10\n",
        "Query the list of CITY names from STATION that either do not start with vowels or do not end with vowels. Your result cannot contain duplicates.\n",
        "\n",
        "The STATION table is described as follows:\n",
        "![alt text](https://s3.amazonaws.com/hr-challenge-images/9336/1449345840-5f0a551030-Station.jpg)"
      ]
    },
    {
      "cell_type": "code",
      "metadata": {
        "id": "An-Z_n248cAG",
        "colab_type": "code",
        "colab": {}
      },
      "source": [
        "SELECT DISTINCT CITY FROM STATION WHERE CITY NOT RLIKE '.*[aeiouAEIOU]$' OR CITY NOT RLIKE '^[aeiouAEIOU].*'"
      ],
      "execution_count": 0,
      "outputs": []
    },
    {
      "cell_type": "markdown",
      "metadata": {
        "id": "2LSR9wTzF5U1",
        "colab_type": "text"
      },
      "source": [
        "### Python"
      ]
    },
    {
      "cell_type": "markdown",
      "metadata": {
        "id": "i2YtH2oSF_eV",
        "colab_type": "text"
      },
      "source": [
        "#### Ex 1\n",
        "We add a Leap Day on February 29, almost every four years. The leap day is an extra, or intercalary day and we add it to the shortest month of the year, February. \n",
        "In the Gregorian calendar three criteria must be taken into account to identify leap years:\n",
        "\n",
        ">The year can be evenly divided by 4, is a leap year, unless:\n",
        "\n",
        ">>The year can be evenly divided by 100, it is NOT a leap year, unless:\n",
        "\n",
        ">>>The year is also evenly divisible by 400. Then it is a leap year.\n",
        "\n",
        "This means that in the Gregorian calendar, the years 2000 and 2400 are leap years, while 1800, 1900, 2100, 2200, 2300 and 2500 are NOT leap years.Source\n",
        "\n",
        "Task \n",
        "You are given the year, and you have to write a function to check if the year is leap or not.\n",
        "\n",
        "Note that you have to complete the function and remaining code is given as template.\n",
        "\n",
        "**Input Format**\n",
        "\n",
        "Read y, the year that needs to be checked.\n",
        "\n",
        "**Constraints**\n",
        "\n",
        "`1990 <= y <= 10^5`\n",
        "\n",
        "**Output Format**\n",
        "\n",
        "Output is taken care of by the template. Your function must return a boolean value (True/False)\n",
        "\n",
        "\n",
        "**Sample Input **\n",
        "\n",
        "> `1990`\n",
        "\n",
        "**Sample Output **\n",
        "\n",
        "> `False`\n",
        "\n",
        "**Explanation **\n",
        "\n",
        "1990 is not a multiple of 4 hence it's not a leap year."
      ]
    },
    {
      "cell_type": "code",
      "metadata": {
        "id": "_C-jI6oIGCeP",
        "colab_type": "code",
        "colab": {}
      },
      "source": [
        "def is_leap(year):\n",
        "    leap = False\n",
        "    \n",
        "    leap = ((year % 400 == 0 and year % 100 == 0) or ((year % 4 == 0 and year % 100 != 0))) and (year <= 10**5 and year >= 1900)\n",
        "    \n",
        "    return leap\n",
        "\n",
        "year = int(raw_input())\n",
        "print is_leap(year)"
      ],
      "execution_count": 0,
      "outputs": []
    },
    {
      "cell_type": "markdown",
      "metadata": {
        "id": "C3eBU9OCGCoE",
        "colab_type": "text"
      },
      "source": [
        "#### Ex 2\n",
        "Task \n",
        "Read two integers from STDIN and print three lines where:\n",
        "\n",
        "The first line contains the sum of the two numbers.\n",
        "The second line contains the difference of the two numbers (first - second).\n",
        "The third line contains the product of the two numbers.\n",
        "Input Format\n",
        "\n",
        "The first line contains the first integer, a. The second line contains the second integer, b.\n",
        "\n",
        "Output Format\n",
        "\n",
        "Print the three lines as explained above.\n",
        "\n",
        "Sample Input \n",
        "\n",
        "\n",
        "```\n",
        "3\n",
        "2\n",
        "```\n",
        "\n",
        "\n",
        "Sample Output \n",
        "\n",
        "```\n",
        "5\n",
        "1\n",
        "6\n",
        "```\n",
        "\n",
        "Explanation \n",
        "\n",
        "```\n",
        "3+2=5\n",
        "\n",
        "3-2=1\n",
        "\n",
        "3*2=6\n",
        "```"
      ]
    },
    {
      "cell_type": "code",
      "metadata": {
        "id": "5UOD5E9IGC_c",
        "colab_type": "code",
        "colab": {}
      },
      "source": [
        "a = int(input())\n",
        "b = int(input())\n",
        "print(a+b)\n",
        "print(a-b)\n",
        "print(a*b)"
      ],
      "execution_count": 0,
      "outputs": []
    },
    {
      "cell_type": "markdown",
      "metadata": {
        "id": "x9o8tC3eGDH2",
        "colab_type": "text"
      },
      "source": [
        "#### Ex 3\n",
        "\n",
        "heck Tutorial tab to know how to to solve.\n",
        "\n",
        "Read an integer N.\n",
        "\n",
        "Without using any string methods, try to print the following:\n",
        "123...N\n",
        "\n",
        "Note that \"\" represents the values in between.\n",
        "\n",
        "**Input Format**\n",
        "\n",
        "The first line contains an integer N.\n",
        "\n",
        "**Output Format**\n",
        "\n",
        "Output the answer as explained in the task.\n",
        "\n",
        "**Sample Input 0**\n",
        "\n",
        "`3`\n",
        "\n",
        "**Sample Output 0**\n",
        "\n",
        "`123`"
      ]
    },
    {
      "cell_type": "code",
      "metadata": {
        "id": "zbLInxw_GDYQ",
        "colab_type": "code",
        "colab": {}
      },
      "source": [
        "def print_n(n):\n",
        "    if n > 1:\n",
        "        print(print_n(n-1), end=\"\")\n",
        "    return n\n",
        "    \n",
        "    \n",
        "if __name__ == '__main__':\n",
        "    n = int(input())\n",
        "    print_n(n+1)"
      ],
      "execution_count": 0,
      "outputs": []
    },
    {
      "cell_type": "markdown",
      "metadata": {
        "id": "g4FPf83xGDe-",
        "colab_type": "text"
      },
      "source": [
        "#### Ex 4\n",
        "\n",
        "**Task **\n",
        "Read an integer `N`. For all non-negative integers `i < N`, print `i^2`. See the sample for details.\n",
        "\n",
        "**Input Format**\n",
        "\n",
        "The first and only line contains the integer, N.\n",
        "\n",
        "Constraints\n",
        "\n",
        "`1<=N<=20`\n",
        "\n",
        "**Output Format**\n",
        "\n",
        "Print N lines, one corresponding to each `i^2`.\n",
        "\n",
        "\n",
        "**Sample Input **\n",
        "\n",
        "\n",
        "```\n",
        "5\n",
        "```\n",
        "\n",
        "\n",
        "**Sample Output **\n",
        "\n",
        "\n",
        "```\n",
        "0\n",
        "1\n",
        "4\n",
        "9\n",
        "16\n",
        "```"
      ]
    },
    {
      "cell_type": "code",
      "metadata": {
        "id": "nu-mFJOwGDuo",
        "colab_type": "code",
        "colab": {}
      },
      "source": [
        "def print_n(n):\n",
        "    if n > 0:\n",
        "        print(print_n(n-1))\n",
        "    return n**2\n",
        "\n",
        "if __name__ == '__main__':\n",
        "    n = int(input())\n",
        "    print_n(n)\n",
        "\n"
      ],
      "execution_count": 0,
      "outputs": []
    },
    {
      "cell_type": "markdown",
      "metadata": {
        "id": "ErPT9ImfGEBZ",
        "colab_type": "text"
      },
      "source": [
        "#### Ex 5\n",
        "#### Problem 1\n",
        "\n",
        "**Task** \n",
        "Given an integer, , perform the following conditional actions:\n",
        "\n",
        "* If `n` is odd, print *Weird*\n",
        "* If `n` is even and in the inclusive range of 2 to 5, print *Not Weird*\n",
        "* If `n` is even and in the inclusive range of 6 to 20, print *Weird*\n",
        "* If `n` is even and greater than 20, print *Not Weird*\n",
        "\n",
        "**Input Format**\n",
        "\n",
        "A single line containing a positive integer, .\n",
        "\n",
        "**Output Format**\n",
        "\n",
        "Print Weird if the number is weird; otherwise, print Not Weird.\n",
        "\n",
        "**Sample Input 0**\n",
        "\n",
        "`3`\n",
        "\n",
        "**Sample Output 0**\n",
        "\n",
        "`Weird`\n",
        "\n",
        "**Explanation 0**\n",
        "\n",
        " `n = 3`\n",
        " \n",
        " `n` is odd and odd numbers are weird, so we print Weird.\n",
        "\n",
        "**Sample Input 1**\n",
        "\n",
        "`24`\n",
        "\n",
        "**Sample Output 1**\n",
        "\n",
        "`Not Weird`\n",
        "\n",
        "**Explanation 1**\n",
        "\n",
        " `n = 24`\n",
        " \n",
        " `n > 20` and  `n` is even, so it isn't weird. Thus, we print Not Weird."
      ]
    },
    {
      "cell_type": "code",
      "metadata": {
        "id": "SkHIHYlCGHif",
        "colab_type": "code",
        "colab": {}
      },
      "source": [
        "import math\n",
        "import os\n",
        "import random\n",
        "import re\n",
        "import sys\n",
        "\n",
        "if __name__ == '__main__':\n",
        "    n = int(input().strip())\n",
        "    if n % 2 == 1:\n",
        "        print('Weird')\n",
        "    else:\n",
        "        if (n >= 2) and (n <= 5):\n",
        "            print('Not Weird')\n",
        "        elif (n >= 6) and (n <= 20):\n",
        "            print('Weird')\n",
        "        else:\n",
        "            print('Not Weird')"
      ],
      "execution_count": 0,
      "outputs": []
    }
  ]
}