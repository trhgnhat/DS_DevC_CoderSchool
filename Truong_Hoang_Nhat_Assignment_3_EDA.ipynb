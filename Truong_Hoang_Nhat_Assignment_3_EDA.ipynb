{
  "nbformat": 4,
  "nbformat_minor": 0,
  "metadata": {
    "colab": {
      "name": "Truong Hoang Nhat Assignment_3_EDA.ipynb",
      "version": "0.3.2",
      "provenance": [],
      "collapsed_sections": [],
      "include_colab_link": true
    },
    "language_info": {
      "codemirror_mode": {
        "name": "ipython",
        "version": 3
      },
      "file_extension": ".py",
      "mimetype": "text/x-python",
      "name": "python",
      "nbconvert_exporter": "python",
      "pygments_lexer": "ipython3",
      "version": "3.6.5"
    },
    "kernelspec": {
      "display_name": "Python 3",
      "language": "python",
      "name": "python3"
    }
  },
  "cells": [
    {
      "cell_type": "markdown",
      "metadata": {
        "id": "view-in-github",
        "colab_type": "text"
      },
      "source": [
        "<a href=\"https://colab.research.google.com/github/trhgnhat/DS_DevC_CoderSchool/blob/master/Truong_Hoang_Nhat_Assignment_3_EDA.ipynb\" target=\"_parent\"><img src=\"https://colab.research.google.com/assets/colab-badge.svg\" alt=\"Open In Colab\"/></a>"
      ]
    },
    {
      "cell_type": "markdown",
      "metadata": {
        "id": "x7fdTGs4SnyS",
        "colab_type": "text"
      },
      "source": [
        "![](https://i.imgur.com/0AUxkXt.png)"
      ]
    },
    {
      "cell_type": "markdown",
      "metadata": {
        "id": "_uqy69P0Pm0L",
        "colab_type": "text"
      },
      "source": [
        "# Assignment 3 - From data to insights\n",
        "\n",
        "Before you explore the data, write down a short list of what you expect to see in the data: the distribution of key variables, the relationships between important pairs of them, and so on. Such a list is essentially a prediction based on your current understanding of the business.\n",
        "\n",
        "Now analyze the data. Make plots, do summaries, whatever is needed to see if it matches your expectations.\n",
        "\n",
        "Is there anything that doesn’t match? Anything that makes you go “That’s odd” or “That doesn’t make any sense.”?\n",
        "\n",
        "Zoom in and try to understand what in your business is making that weird thing show up in the data like that. This is the critical step.\n",
        "\n",
        "You may have just found an insight into the business and increased your understanding\n",
        "\n",
        "\n",
        "## The data analysis checklist\n",
        "\n",
        "This checklist can be used as a guide during the process of a data analysis, or as a way to evaluate the quality of a reported data analysis.\n",
        "\n",
        "### Answering the first questions\n",
        "\n",
        "1. Did you define the metric for success before beginning?\n",
        "2. Did you understand the context for the question and business application?\n",
        "3. Did you consider whether the question could be answered with the available data?\n",
        "\n",
        "### Cleaning the data\n",
        "\n",
        "1. Did you identify the missing data?\n",
        "2. Is each variable one column?\n",
        "3. Do different data types appear in each table?\n",
        "4. Did you try to identify any errors or miscoding of variables?\n",
        "5. Did you check for outliers?\n",
        "\n",
        "### Exploratory analysis\n",
        "\n",
        "1. Did you make univariate plots (histogram, distplot, boxplot)?\n",
        "2. Did you consider correlations between variables (scatterplot, jointplot, kde plot, correlation matrix)?\n",
        "3. Did you check the units of all data points to make sure they are in the right range?\n",
        "\n",
        "### Presentations\n",
        "\n",
        "1. Did you lead with a brief, understandable to everyone of your problem?\n",
        "2. Did you explain the data, describe the question of interest?\n",
        "3. Did you make sure all legends and axes were legible from the back of the room?"
      ]
    },
    {
      "cell_type": "markdown",
      "metadata": {
        "id": "ZBc0glanPm0M",
        "colab_type": "text"
      },
      "source": [
        "## Dataset - Online Retailes Purchase\n",
        "\n",
        "Typically e-commerce datasets are proprietary and consequently hard to find among publicly available data. However, [The UCI Machine Learning Repository](http://archive.ics.uci.edu/ml/index.php) has made this dataset containing actual transactions from 2010 and 2011. The dataset is maintained on their site, where it can be found by the title \"Online Retail\".\n",
        "\n",
        "\n",
        "### Step 1 - Checking the data\n",
        "\n",
        "**Import tools set**"
      ]
    },
    {
      "cell_type": "code",
      "metadata": {
        "id": "9Cx3LXxfPm0N",
        "colab_type": "code",
        "colab": {}
      },
      "source": [
        "# Your code here\n",
        "import numpy as np\n",
        "import pandas as pd\n",
        "import seaborn as sns\n",
        "import matplotlib.pyplot as plt\n",
        "%matplotlib inline\n",
        "import warnings\n",
        "warnings.filterwarnings('ignore')\n",
        "\n",
        "sns.set_style(\"whitegrid\")"
      ],
      "execution_count": 0,
      "outputs": []
    },
    {
      "cell_type": "markdown",
      "metadata": {
        "id": "mFTQu0j6Pm0Q",
        "colab_type": "text"
      },
      "source": [
        "**Import data**"
      ]
    },
    {
      "cell_type": "code",
      "metadata": {
        "id": "w0YVchrVPm0R",
        "colab_type": "code",
        "colab": {}
      },
      "source": [
        "link = \"https://ml101-khanhnguyen.s3-ap-southeast-1.amazonaws.com/devc/Online_Retail.csv\"\n",
        "# Note: set param encoding = 'latin1'\n",
        "# Your code here\n",
        "df = pd.read_csv(link, encoding=\"latin1\")\n",
        "df[\"InvoiceDate\"]=pd.to_datetime(df.InvoiceDate)"
      ],
      "execution_count": 0,
      "outputs": []
    },
    {
      "cell_type": "code",
      "metadata": {
        "id": "V3v8D3pTFrYh",
        "colab_type": "code",
        "colab": {
          "base_uri": "https://localhost:8080/",
          "height": 289
        },
        "outputId": "d0cf1326-4751-4419-e862-f19b61e9c124"
      },
      "source": [
        "# Print out First 5 rows from dataframe\n",
        "# Your code here\n",
        "df.head()"
      ],
      "execution_count": 4,
      "outputs": [
        {
          "output_type": "execute_result",
          "data": {
            "text/html": [
              "<div>\n",
              "<style scoped>\n",
              "    .dataframe tbody tr th:only-of-type {\n",
              "        vertical-align: middle;\n",
              "    }\n",
              "\n",
              "    .dataframe tbody tr th {\n",
              "        vertical-align: top;\n",
              "    }\n",
              "\n",
              "    .dataframe thead th {\n",
              "        text-align: right;\n",
              "    }\n",
              "</style>\n",
              "<table border=\"1\" class=\"dataframe\">\n",
              "  <thead>\n",
              "    <tr style=\"text-align: right;\">\n",
              "      <th></th>\n",
              "      <th>InvoiceNo</th>\n",
              "      <th>StockCode</th>\n",
              "      <th>Description</th>\n",
              "      <th>Quantity</th>\n",
              "      <th>InvoiceDate</th>\n",
              "      <th>UnitPrice</th>\n",
              "      <th>CustomerID</th>\n",
              "      <th>Country</th>\n",
              "    </tr>\n",
              "  </thead>\n",
              "  <tbody>\n",
              "    <tr>\n",
              "      <th>0</th>\n",
              "      <td>536365</td>\n",
              "      <td>85123A</td>\n",
              "      <td>WHITE HANGING HEART T-LIGHT HOLDER</td>\n",
              "      <td>6</td>\n",
              "      <td>2010-12-01 08:26:00</td>\n",
              "      <td>2.55</td>\n",
              "      <td>17850.0</td>\n",
              "      <td>United Kingdom</td>\n",
              "    </tr>\n",
              "    <tr>\n",
              "      <th>1</th>\n",
              "      <td>536365</td>\n",
              "      <td>71053</td>\n",
              "      <td>WHITE METAL LANTERN</td>\n",
              "      <td>6</td>\n",
              "      <td>2010-12-01 08:26:00</td>\n",
              "      <td>3.39</td>\n",
              "      <td>17850.0</td>\n",
              "      <td>United Kingdom</td>\n",
              "    </tr>\n",
              "    <tr>\n",
              "      <th>2</th>\n",
              "      <td>536365</td>\n",
              "      <td>84406B</td>\n",
              "      <td>CREAM CUPID HEARTS COAT HANGER</td>\n",
              "      <td>8</td>\n",
              "      <td>2010-12-01 08:26:00</td>\n",
              "      <td>2.75</td>\n",
              "      <td>17850.0</td>\n",
              "      <td>United Kingdom</td>\n",
              "    </tr>\n",
              "    <tr>\n",
              "      <th>3</th>\n",
              "      <td>536365</td>\n",
              "      <td>84029G</td>\n",
              "      <td>KNITTED UNION FLAG HOT WATER BOTTLE</td>\n",
              "      <td>6</td>\n",
              "      <td>2010-12-01 08:26:00</td>\n",
              "      <td>3.39</td>\n",
              "      <td>17850.0</td>\n",
              "      <td>United Kingdom</td>\n",
              "    </tr>\n",
              "    <tr>\n",
              "      <th>4</th>\n",
              "      <td>536365</td>\n",
              "      <td>84029E</td>\n",
              "      <td>RED WOOLLY HOTTIE WHITE HEART.</td>\n",
              "      <td>6</td>\n",
              "      <td>2010-12-01 08:26:00</td>\n",
              "      <td>3.39</td>\n",
              "      <td>17850.0</td>\n",
              "      <td>United Kingdom</td>\n",
              "    </tr>\n",
              "  </tbody>\n",
              "</table>\n",
              "</div>"
            ],
            "text/plain": [
              "  InvoiceNo StockCode  ... CustomerID         Country\n",
              "0    536365    85123A  ...    17850.0  United Kingdom\n",
              "1    536365     71053  ...    17850.0  United Kingdom\n",
              "2    536365    84406B  ...    17850.0  United Kingdom\n",
              "3    536365    84029G  ...    17850.0  United Kingdom\n",
              "4    536365    84029E  ...    17850.0  United Kingdom\n",
              "\n",
              "[5 rows x 8 columns]"
            ]
          },
          "metadata": {
            "tags": []
          },
          "execution_count": 4
        }
      ]
    },
    {
      "cell_type": "code",
      "metadata": {
        "id": "u4Msf54uFy4w",
        "colab_type": "code",
        "colab": {
          "base_uri": "https://localhost:8080/",
          "height": 238
        },
        "outputId": "9b5b00c5-7444-491e-fa6f-12090baf30ff"
      },
      "source": [
        "# Print out brief info\n",
        "df.info()"
      ],
      "execution_count": 58,
      "outputs": [
        {
          "output_type": "stream",
          "text": [
            "<class 'pandas.core.frame.DataFrame'>\n",
            "RangeIndex: 541909 entries, 0 to 541908\n",
            "Data columns (total 8 columns):\n",
            "InvoiceNo      541909 non-null object\n",
            "StockCode      541909 non-null object\n",
            "Description    540455 non-null object\n",
            "Quantity       541909 non-null int64\n",
            "InvoiceDate    541909 non-null datetime64[ns]\n",
            "UnitPrice      541909 non-null float64\n",
            "CustomerID     406829 non-null float64\n",
            "Country        541909 non-null object\n",
            "dtypes: datetime64[ns](1), float64(2), int64(1), object(4)\n",
            "memory usage: 33.1+ MB\n"
          ],
          "name": "stdout"
        }
      ]
    },
    {
      "cell_type": "code",
      "metadata": {
        "id": "Hw9xD4e5skU7",
        "colab_type": "code",
        "colab": {
          "base_uri": "https://localhost:8080/",
          "height": 574
        },
        "outputId": "004b20a4-fb9e-4bdf-8e69-4568cda63791"
      },
      "source": [
        "df.describe(include=\"all\")"
      ],
      "execution_count": 59,
      "outputs": [
        {
          "output_type": "execute_result",
          "data": {
            "text/html": [
              "<div>\n",
              "<style scoped>\n",
              "    .dataframe tbody tr th:only-of-type {\n",
              "        vertical-align: middle;\n",
              "    }\n",
              "\n",
              "    .dataframe tbody tr th {\n",
              "        vertical-align: top;\n",
              "    }\n",
              "\n",
              "    .dataframe thead th {\n",
              "        text-align: right;\n",
              "    }\n",
              "</style>\n",
              "<table border=\"1\" class=\"dataframe\">\n",
              "  <thead>\n",
              "    <tr style=\"text-align: right;\">\n",
              "      <th></th>\n",
              "      <th>InvoiceNo</th>\n",
              "      <th>StockCode</th>\n",
              "      <th>Description</th>\n",
              "      <th>Quantity</th>\n",
              "      <th>InvoiceDate</th>\n",
              "      <th>UnitPrice</th>\n",
              "      <th>CustomerID</th>\n",
              "      <th>Country</th>\n",
              "    </tr>\n",
              "  </thead>\n",
              "  <tbody>\n",
              "    <tr>\n",
              "      <th>count</th>\n",
              "      <td>541909</td>\n",
              "      <td>541909</td>\n",
              "      <td>540455</td>\n",
              "      <td>541909.000000</td>\n",
              "      <td>541909</td>\n",
              "      <td>541909.000000</td>\n",
              "      <td>406829.000000</td>\n",
              "      <td>541909</td>\n",
              "    </tr>\n",
              "    <tr>\n",
              "      <th>unique</th>\n",
              "      <td>25900</td>\n",
              "      <td>4070</td>\n",
              "      <td>4223</td>\n",
              "      <td>NaN</td>\n",
              "      <td>23260</td>\n",
              "      <td>NaN</td>\n",
              "      <td>NaN</td>\n",
              "      <td>38</td>\n",
              "    </tr>\n",
              "    <tr>\n",
              "      <th>top</th>\n",
              "      <td>573585</td>\n",
              "      <td>85123A</td>\n",
              "      <td>WHITE HANGING HEART T-LIGHT HOLDER</td>\n",
              "      <td>NaN</td>\n",
              "      <td>2011-10-31 14:41:00</td>\n",
              "      <td>NaN</td>\n",
              "      <td>NaN</td>\n",
              "      <td>United Kingdom</td>\n",
              "    </tr>\n",
              "    <tr>\n",
              "      <th>freq</th>\n",
              "      <td>1114</td>\n",
              "      <td>2313</td>\n",
              "      <td>2369</td>\n",
              "      <td>NaN</td>\n",
              "      <td>1114</td>\n",
              "      <td>NaN</td>\n",
              "      <td>NaN</td>\n",
              "      <td>495478</td>\n",
              "    </tr>\n",
              "    <tr>\n",
              "      <th>first</th>\n",
              "      <td>NaN</td>\n",
              "      <td>NaN</td>\n",
              "      <td>NaN</td>\n",
              "      <td>NaN</td>\n",
              "      <td>2010-12-01 08:26:00</td>\n",
              "      <td>NaN</td>\n",
              "      <td>NaN</td>\n",
              "      <td>NaN</td>\n",
              "    </tr>\n",
              "    <tr>\n",
              "      <th>last</th>\n",
              "      <td>NaN</td>\n",
              "      <td>NaN</td>\n",
              "      <td>NaN</td>\n",
              "      <td>NaN</td>\n",
              "      <td>2011-12-09 12:50:00</td>\n",
              "      <td>NaN</td>\n",
              "      <td>NaN</td>\n",
              "      <td>NaN</td>\n",
              "    </tr>\n",
              "    <tr>\n",
              "      <th>mean</th>\n",
              "      <td>NaN</td>\n",
              "      <td>NaN</td>\n",
              "      <td>NaN</td>\n",
              "      <td>9.552250</td>\n",
              "      <td>NaN</td>\n",
              "      <td>4.611114</td>\n",
              "      <td>15287.690570</td>\n",
              "      <td>NaN</td>\n",
              "    </tr>\n",
              "    <tr>\n",
              "      <th>std</th>\n",
              "      <td>NaN</td>\n",
              "      <td>NaN</td>\n",
              "      <td>NaN</td>\n",
              "      <td>218.081158</td>\n",
              "      <td>NaN</td>\n",
              "      <td>96.759853</td>\n",
              "      <td>1713.600303</td>\n",
              "      <td>NaN</td>\n",
              "    </tr>\n",
              "    <tr>\n",
              "      <th>min</th>\n",
              "      <td>NaN</td>\n",
              "      <td>NaN</td>\n",
              "      <td>NaN</td>\n",
              "      <td>-80995.000000</td>\n",
              "      <td>NaN</td>\n",
              "      <td>-11062.060000</td>\n",
              "      <td>12346.000000</td>\n",
              "      <td>NaN</td>\n",
              "    </tr>\n",
              "    <tr>\n",
              "      <th>25%</th>\n",
              "      <td>NaN</td>\n",
              "      <td>NaN</td>\n",
              "      <td>NaN</td>\n",
              "      <td>1.000000</td>\n",
              "      <td>NaN</td>\n",
              "      <td>1.250000</td>\n",
              "      <td>13953.000000</td>\n",
              "      <td>NaN</td>\n",
              "    </tr>\n",
              "    <tr>\n",
              "      <th>50%</th>\n",
              "      <td>NaN</td>\n",
              "      <td>NaN</td>\n",
              "      <td>NaN</td>\n",
              "      <td>3.000000</td>\n",
              "      <td>NaN</td>\n",
              "      <td>2.080000</td>\n",
              "      <td>15152.000000</td>\n",
              "      <td>NaN</td>\n",
              "    </tr>\n",
              "    <tr>\n",
              "      <th>75%</th>\n",
              "      <td>NaN</td>\n",
              "      <td>NaN</td>\n",
              "      <td>NaN</td>\n",
              "      <td>10.000000</td>\n",
              "      <td>NaN</td>\n",
              "      <td>4.130000</td>\n",
              "      <td>16791.000000</td>\n",
              "      <td>NaN</td>\n",
              "    </tr>\n",
              "    <tr>\n",
              "      <th>max</th>\n",
              "      <td>NaN</td>\n",
              "      <td>NaN</td>\n",
              "      <td>NaN</td>\n",
              "      <td>80995.000000</td>\n",
              "      <td>NaN</td>\n",
              "      <td>38970.000000</td>\n",
              "      <td>18287.000000</td>\n",
              "      <td>NaN</td>\n",
              "    </tr>\n",
              "  </tbody>\n",
              "</table>\n",
              "</div>"
            ],
            "text/plain": [
              "       InvoiceNo StockCode  ...     CustomerID         Country\n",
              "count     541909    541909  ...  406829.000000          541909\n",
              "unique     25900      4070  ...            NaN              38\n",
              "top       573585    85123A  ...            NaN  United Kingdom\n",
              "freq        1114      2313  ...            NaN          495478\n",
              "first        NaN       NaN  ...            NaN             NaN\n",
              "last         NaN       NaN  ...            NaN             NaN\n",
              "mean         NaN       NaN  ...   15287.690570             NaN\n",
              "std          NaN       NaN  ...    1713.600303             NaN\n",
              "min          NaN       NaN  ...   12346.000000             NaN\n",
              "25%          NaN       NaN  ...   13953.000000             NaN\n",
              "50%          NaN       NaN  ...   15152.000000             NaN\n",
              "75%          NaN       NaN  ...   16791.000000             NaN\n",
              "max          NaN       NaN  ...   18287.000000             NaN\n",
              "\n",
              "[13 rows x 8 columns]"
            ]
          },
          "metadata": {
            "tags": []
          },
          "execution_count": 59
        }
      ]
    },
    {
      "cell_type": "markdown",
      "metadata": {
        "id": "wY6yv3UsPm0k",
        "colab_type": "text"
      },
      "source": [
        "### Step 2 - Cleaning the data\n",
        "\n",
        "Few of useful data cleaning functions:\n",
        "\n",
        "* `s.astype('category')` # This will convert the datatype of the series to float *Please note that \"s\" here is a Pandas Series\n",
        "\n",
        "* `s.replace(1,'one')` # This will replace all values equal to 1 with 'one'\n",
        "\n",
        "* `s.replace([1,3],['one','three'])` # This will replace all 1 with 'one' and 3 with 'three'\n",
        "\n",
        "* `data.rename(columns=lambda x: x + 1)` # Mass renaming of columns\n",
        "\n",
        "* `data.rename(columns={'oldname': 'new name'})` # Selective renaming\n",
        "\n",
        "* `data.set_index('column_one')` #  This will change the index\n",
        "\n",
        "* `data.rename(index=lambda x: x + 1)` # Mass renaming of index\n",
        "\n",
        "* `data.dropna()` # Remove missing values\n",
        "\n",
        "* `data.fillna(x)` #  This will replaces all null values with x\n",
        "\n",
        "* `s.fillna(s.mean())` # This will replace all null values with the mean (mean can be replaced with almost any function from the below section) :\n",
        "\n",
        "* `data.corr()` # This will return the correlation between columns in a DataFrame\n",
        "\n",
        "* `data.count()` # This will return the number of non-null values in each DataFrame column\n",
        "\n",
        "* `data.max()` # This will return the highest value in each column\n",
        "\n",
        "* `data.min()` # This will return the lowest value in each column\n",
        "\n",
        "* `data.median()` # This will return the median of each column\n",
        "\n",
        "* `data.std()` # This will returns the standard deviation of each column\n"
      ]
    },
    {
      "cell_type": "markdown",
      "metadata": {
        "id": "rcNsGWarPm06",
        "colab_type": "text"
      },
      "source": [
        "**Check for NaN values**"
      ]
    },
    {
      "cell_type": "code",
      "metadata": {
        "id": "TqLxHGy2Pm06",
        "colab_type": "code",
        "colab": {
          "base_uri": "https://localhost:8080/",
          "height": 170
        },
        "outputId": "5704ed27-f245-4f71-bf42-bbf159fcfab4"
      },
      "source": [
        "# Your code here\n",
        "df.isna().sum()"
      ],
      "execution_count": 72,
      "outputs": [
        {
          "output_type": "execute_result",
          "data": {
            "text/plain": [
              "InvoiceNo           0\n",
              "StockCode           0\n",
              "Description      1454\n",
              "Quantity            0\n",
              "InvoiceDate         0\n",
              "UnitPrice           0\n",
              "CustomerID     135080\n",
              "Country             0\n",
              "dtype: int64"
            ]
          },
          "metadata": {
            "tags": []
          },
          "execution_count": 72
        }
      ]
    },
    {
      "cell_type": "markdown",
      "metadata": {
        "id": "RdhPk_x1Pm0-",
        "colab_type": "text"
      },
      "source": [
        "**Examine few examples of NaN values**"
      ]
    },
    {
      "cell_type": "code",
      "metadata": {
        "id": "3kGYpbdOPm0-",
        "colab_type": "code",
        "colab": {
          "base_uri": "https://localhost:8080/",
          "height": 289
        },
        "outputId": "f48a3b01-0db1-4410-f5db-c363aa74eb8f"
      },
      "source": [
        "# List all NaN values\n",
        "df[[True in x for x in df.isnull().values]].sample(5)"
      ],
      "execution_count": 82,
      "outputs": [
        {
          "output_type": "execute_result",
          "data": {
            "text/html": [
              "<div>\n",
              "<style scoped>\n",
              "    .dataframe tbody tr th:only-of-type {\n",
              "        vertical-align: middle;\n",
              "    }\n",
              "\n",
              "    .dataframe tbody tr th {\n",
              "        vertical-align: top;\n",
              "    }\n",
              "\n",
              "    .dataframe thead th {\n",
              "        text-align: right;\n",
              "    }\n",
              "</style>\n",
              "<table border=\"1\" class=\"dataframe\">\n",
              "  <thead>\n",
              "    <tr style=\"text-align: right;\">\n",
              "      <th></th>\n",
              "      <th>InvoiceNo</th>\n",
              "      <th>StockCode</th>\n",
              "      <th>Description</th>\n",
              "      <th>Quantity</th>\n",
              "      <th>InvoiceDate</th>\n",
              "      <th>UnitPrice</th>\n",
              "      <th>CustomerID</th>\n",
              "      <th>Country</th>\n",
              "    </tr>\n",
              "  </thead>\n",
              "  <tbody>\n",
              "    <tr>\n",
              "      <th>163360</th>\n",
              "      <td>550542</td>\n",
              "      <td>22365</td>\n",
              "      <td>DOORMAT RESPECTABLE HOUSE</td>\n",
              "      <td>1</td>\n",
              "      <td>2011-04-19 11:37:00</td>\n",
              "      <td>15.79</td>\n",
              "      <td>NaN</td>\n",
              "      <td>United Kingdom</td>\n",
              "    </tr>\n",
              "    <tr>\n",
              "      <th>234048</th>\n",
              "      <td>557500</td>\n",
              "      <td>22311</td>\n",
              "      <td>OFFICE MUG WARMER BLACK+SILVER</td>\n",
              "      <td>1</td>\n",
              "      <td>2011-06-20 15:27:00</td>\n",
              "      <td>5.79</td>\n",
              "      <td>NaN</td>\n",
              "      <td>United Kingdom</td>\n",
              "    </tr>\n",
              "    <tr>\n",
              "      <th>40918</th>\n",
              "      <td>539746</td>\n",
              "      <td>22456</td>\n",
              "      <td>NATURAL SLATE CHALKBOARD LARGE</td>\n",
              "      <td>1</td>\n",
              "      <td>2010-12-21 15:22:00</td>\n",
              "      <td>10.17</td>\n",
              "      <td>NaN</td>\n",
              "      <td>United Kingdom</td>\n",
              "    </tr>\n",
              "    <tr>\n",
              "      <th>344108</th>\n",
              "      <td>566985</td>\n",
              "      <td>22409</td>\n",
              "      <td>MONEY BOX BISCUITS DESIGN</td>\n",
              "      <td>1</td>\n",
              "      <td>2011-09-16 10:42:00</td>\n",
              "      <td>2.46</td>\n",
              "      <td>NaN</td>\n",
              "      <td>United Kingdom</td>\n",
              "    </tr>\n",
              "    <tr>\n",
              "      <th>470545</th>\n",
              "      <td>576617</td>\n",
              "      <td>21790</td>\n",
              "      <td>VINTAGE SNAP CARDS</td>\n",
              "      <td>7</td>\n",
              "      <td>2011-11-15 16:57:00</td>\n",
              "      <td>1.63</td>\n",
              "      <td>NaN</td>\n",
              "      <td>United Kingdom</td>\n",
              "    </tr>\n",
              "  </tbody>\n",
              "</table>\n",
              "</div>"
            ],
            "text/plain": [
              "       InvoiceNo StockCode  ... CustomerID         Country\n",
              "163360    550542     22365  ...        NaN  United Kingdom\n",
              "234048    557500     22311  ...        NaN  United Kingdom\n",
              "40918     539746     22456  ...        NaN  United Kingdom\n",
              "344108    566985     22409  ...        NaN  United Kingdom\n",
              "470545    576617     21790  ...        NaN  United Kingdom\n",
              "\n",
              "[5 rows x 8 columns]"
            ]
          },
          "metadata": {
            "tags": []
          },
          "execution_count": 82
        }
      ]
    },
    {
      "cell_type": "markdown",
      "metadata": {
        "id": "OpAhltPeHaLR",
        "colab_type": "text"
      },
      "source": [
        "**Exclude negative Quatity entries**"
      ]
    },
    {
      "cell_type": "code",
      "metadata": {
        "id": "71F-5PY-HZ6T",
        "colab_type": "code",
        "colab": {}
      },
      "source": [
        "df = df[df.Quantity > 0]"
      ],
      "execution_count": 0,
      "outputs": []
    },
    {
      "cell_type": "markdown",
      "metadata": {
        "id": "s5idc5z2H1zJ",
        "colab_type": "text"
      },
      "source": [
        "**Exclude negative Price entries**"
      ]
    },
    {
      "cell_type": "code",
      "metadata": {
        "id": "_8OdtEVFH1fr",
        "colab_type": "code",
        "colab": {}
      },
      "source": [
        "df = df[df.UnitPrice > 0]"
      ],
      "execution_count": 0,
      "outputs": []
    },
    {
      "cell_type": "markdown",
      "metadata": {
        "id": "Ikd1t-v3Pm17",
        "colab_type": "text"
      },
      "source": [
        "### Step 3 - EDA"
      ]
    },
    {
      "cell_type": "markdown",
      "metadata": {
        "id": "-T3iojz1If_r",
        "colab_type": "text"
      },
      "source": [
        "**The customer with the highest number of orders comes from the United Kingdom (UK)**"
      ]
    },
    {
      "cell_type": "code",
      "metadata": {
        "id": "qIUoWtlPIhxJ",
        "colab_type": "code",
        "colab": {
          "base_uri": "https://localhost:8080/",
          "height": 557
        },
        "outputId": "84b87d22-2760-442b-d099-4d53dfcc95a1"
      },
      "source": [
        "# Your code here\n",
        "cus_id_with_highest_NoO = df[df.Country == \"United Kingdom\"].groupby([\"CustomerID\"]).apply(lambda x: len(x.InvoiceNo.unique())).idxmax()\n",
        "cus_with_highest_NoO = df[df.CustomerID == cus_id_with_highest_NoO]\n",
        "cus_with_highest_NoO.describe(include=\"all\")"
      ],
      "execution_count": 45,
      "outputs": [
        {
          "output_type": "execute_result",
          "data": {
            "text/html": [
              "<div>\n",
              "<style scoped>\n",
              "    .dataframe tbody tr th:only-of-type {\n",
              "        vertical-align: middle;\n",
              "    }\n",
              "\n",
              "    .dataframe tbody tr th {\n",
              "        vertical-align: top;\n",
              "    }\n",
              "\n",
              "    .dataframe thead th {\n",
              "        text-align: right;\n",
              "    }\n",
              "</style>\n",
              "<table border=\"1\" class=\"dataframe\">\n",
              "  <thead>\n",
              "    <tr style=\"text-align: right;\">\n",
              "      <th></th>\n",
              "      <th>InvoiceNo</th>\n",
              "      <th>StockCode</th>\n",
              "      <th>Description</th>\n",
              "      <th>Quantity</th>\n",
              "      <th>InvoiceDate</th>\n",
              "      <th>UnitPrice</th>\n",
              "      <th>CustomerID</th>\n",
              "      <th>Country</th>\n",
              "      <th>Year</th>\n",
              "      <th>Hour</th>\n",
              "      <th>Month</th>\n",
              "    </tr>\n",
              "  </thead>\n",
              "  <tbody>\n",
              "    <tr>\n",
              "      <th>count</th>\n",
              "      <td>4595</td>\n",
              "      <td>4595</td>\n",
              "      <td>4595</td>\n",
              "      <td>4595.000000</td>\n",
              "      <td>4595</td>\n",
              "      <td>4595.000000</td>\n",
              "      <td>4595.0</td>\n",
              "      <td>4595</td>\n",
              "      <td>4595.000000</td>\n",
              "      <td>4595.000000</td>\n",
              "      <td>4595.000000</td>\n",
              "    </tr>\n",
              "    <tr>\n",
              "      <th>unique</th>\n",
              "      <td>209</td>\n",
              "      <td>1768</td>\n",
              "      <td>1778</td>\n",
              "      <td>NaN</td>\n",
              "      <td>210</td>\n",
              "      <td>NaN</td>\n",
              "      <td>NaN</td>\n",
              "      <td>1</td>\n",
              "      <td>NaN</td>\n",
              "      <td>NaN</td>\n",
              "      <td>NaN</td>\n",
              "    </tr>\n",
              "    <tr>\n",
              "      <th>top</th>\n",
              "      <td>577057</td>\n",
              "      <td>21034</td>\n",
              "      <td>REX CASH+CARRY JUMBO SHOPPER</td>\n",
              "      <td>NaN</td>\n",
              "      <td>2011-11-17 14:26:00</td>\n",
              "      <td>NaN</td>\n",
              "      <td>NaN</td>\n",
              "      <td>United Kingdom</td>\n",
              "      <td>NaN</td>\n",
              "      <td>NaN</td>\n",
              "      <td>NaN</td>\n",
              "    </tr>\n",
              "    <tr>\n",
              "      <th>freq</th>\n",
              "      <td>154</td>\n",
              "      <td>33</td>\n",
              "      <td>33</td>\n",
              "      <td>NaN</td>\n",
              "      <td>154</td>\n",
              "      <td>NaN</td>\n",
              "      <td>NaN</td>\n",
              "      <td>4595</td>\n",
              "      <td>NaN</td>\n",
              "      <td>NaN</td>\n",
              "      <td>NaN</td>\n",
              "    </tr>\n",
              "    <tr>\n",
              "      <th>first</th>\n",
              "      <td>NaN</td>\n",
              "      <td>NaN</td>\n",
              "      <td>NaN</td>\n",
              "      <td>NaN</td>\n",
              "      <td>2010-12-01 12:48:00</td>\n",
              "      <td>NaN</td>\n",
              "      <td>NaN</td>\n",
              "      <td>NaN</td>\n",
              "      <td>NaN</td>\n",
              "      <td>NaN</td>\n",
              "      <td>NaN</td>\n",
              "    </tr>\n",
              "    <tr>\n",
              "      <th>last</th>\n",
              "      <td>NaN</td>\n",
              "      <td>NaN</td>\n",
              "      <td>NaN</td>\n",
              "      <td>NaN</td>\n",
              "      <td>2011-12-09 12:20:00</td>\n",
              "      <td>NaN</td>\n",
              "      <td>NaN</td>\n",
              "      <td>NaN</td>\n",
              "      <td>NaN</td>\n",
              "      <td>NaN</td>\n",
              "      <td>NaN</td>\n",
              "    </tr>\n",
              "    <tr>\n",
              "      <th>mean</th>\n",
              "      <td>NaN</td>\n",
              "      <td>NaN</td>\n",
              "      <td>NaN</td>\n",
              "      <td>5.603264</td>\n",
              "      <td>NaN</td>\n",
              "      <td>2.656279</td>\n",
              "      <td>12748.0</td>\n",
              "      <td>NaN</td>\n",
              "      <td>2010.854625</td>\n",
              "      <td>13.480522</td>\n",
              "      <td>9.328400</td>\n",
              "    </tr>\n",
              "    <tr>\n",
              "      <th>std</th>\n",
              "      <td>NaN</td>\n",
              "      <td>NaN</td>\n",
              "      <td>NaN</td>\n",
              "      <td>18.133327</td>\n",
              "      <td>NaN</td>\n",
              "      <td>14.070780</td>\n",
              "      <td>0.0</td>\n",
              "      <td>NaN</td>\n",
              "      <td>0.352517</td>\n",
              "      <td>2.180024</td>\n",
              "      <td>2.906444</td>\n",
              "    </tr>\n",
              "    <tr>\n",
              "      <th>min</th>\n",
              "      <td>NaN</td>\n",
              "      <td>NaN</td>\n",
              "      <td>NaN</td>\n",
              "      <td>1.000000</td>\n",
              "      <td>NaN</td>\n",
              "      <td>0.040000</td>\n",
              "      <td>12748.0</td>\n",
              "      <td>NaN</td>\n",
              "      <td>2010.000000</td>\n",
              "      <td>9.000000</td>\n",
              "      <td>1.000000</td>\n",
              "    </tr>\n",
              "    <tr>\n",
              "      <th>25%</th>\n",
              "      <td>NaN</td>\n",
              "      <td>NaN</td>\n",
              "      <td>NaN</td>\n",
              "      <td>1.000000</td>\n",
              "      <td>NaN</td>\n",
              "      <td>0.850000</td>\n",
              "      <td>12748.0</td>\n",
              "      <td>NaN</td>\n",
              "      <td>2011.000000</td>\n",
              "      <td>12.000000</td>\n",
              "      <td>7.000000</td>\n",
              "    </tr>\n",
              "    <tr>\n",
              "      <th>50%</th>\n",
              "      <td>NaN</td>\n",
              "      <td>NaN</td>\n",
              "      <td>NaN</td>\n",
              "      <td>2.000000</td>\n",
              "      <td>NaN</td>\n",
              "      <td>1.650000</td>\n",
              "      <td>12748.0</td>\n",
              "      <td>NaN</td>\n",
              "      <td>2011.000000</td>\n",
              "      <td>13.000000</td>\n",
              "      <td>11.000000</td>\n",
              "    </tr>\n",
              "    <tr>\n",
              "      <th>75%</th>\n",
              "      <td>NaN</td>\n",
              "      <td>NaN</td>\n",
              "      <td>NaN</td>\n",
              "      <td>4.000000</td>\n",
              "      <td>NaN</td>\n",
              "      <td>2.950000</td>\n",
              "      <td>12748.0</td>\n",
              "      <td>NaN</td>\n",
              "      <td>2011.000000</td>\n",
              "      <td>15.000000</td>\n",
              "      <td>11.000000</td>\n",
              "    </tr>\n",
              "    <tr>\n",
              "      <th>max</th>\n",
              "      <td>NaN</td>\n",
              "      <td>NaN</td>\n",
              "      <td>NaN</td>\n",
              "      <td>576.000000</td>\n",
              "      <td>NaN</td>\n",
              "      <td>850.500000</td>\n",
              "      <td>12748.0</td>\n",
              "      <td>NaN</td>\n",
              "      <td>2011.000000</td>\n",
              "      <td>20.000000</td>\n",
              "      <td>12.000000</td>\n",
              "    </tr>\n",
              "  </tbody>\n",
              "</table>\n",
              "</div>"
            ],
            "text/plain": [
              "       InvoiceNo StockCode  ...         Hour        Month\n",
              "count       4595      4595  ...  4595.000000  4595.000000\n",
              "unique       209      1768  ...          NaN          NaN\n",
              "top       577057     21034  ...          NaN          NaN\n",
              "freq         154        33  ...          NaN          NaN\n",
              "first        NaN       NaN  ...          NaN          NaN\n",
              "last         NaN       NaN  ...          NaN          NaN\n",
              "mean         NaN       NaN  ...    13.480522     9.328400\n",
              "std          NaN       NaN  ...     2.180024     2.906444\n",
              "min          NaN       NaN  ...     9.000000     1.000000\n",
              "25%          NaN       NaN  ...    12.000000     7.000000\n",
              "50%          NaN       NaN  ...    13.000000    11.000000\n",
              "75%          NaN       NaN  ...    15.000000    11.000000\n",
              "max          NaN       NaN  ...    20.000000    12.000000\n",
              "\n",
              "[13 rows x 11 columns]"
            ]
          },
          "metadata": {
            "tags": []
          },
          "execution_count": 45
        }
      ]
    },
    {
      "cell_type": "markdown",
      "metadata": {
        "id": "9yUfXWelIiTg",
        "colab_type": "text"
      },
      "source": [
        "**The customer with the highest money spent on purchases comes from Netherlands**"
      ]
    },
    {
      "cell_type": "code",
      "metadata": {
        "id": "qCN_rIThJDRj",
        "colab_type": "code",
        "colab": {
          "base_uri": "https://localhost:8080/",
          "height": 503
        },
        "outputId": "e1623560-2ff0-4b8b-e834-79244f95e99d"
      },
      "source": [
        "# Your code here\n",
        "# Your code here\n",
        "cus_id_with_highest_money_spent = df[df.Country == \"Netherlands\"].groupby([\"CustomerID\"]).sum().UnitPrice.idxmax()\n",
        "cus_with_highest_money_spent = df[df.CustomerID == cus_id_with_highest_money_spent]\n",
        "cus_with_highest_money_spent.describe(include=\"all\")"
      ],
      "execution_count": 12,
      "outputs": [
        {
          "output_type": "execute_result",
          "data": {
            "text/html": [
              "<div>\n",
              "<style scoped>\n",
              "    .dataframe tbody tr th:only-of-type {\n",
              "        vertical-align: middle;\n",
              "    }\n",
              "\n",
              "    .dataframe tbody tr th {\n",
              "        vertical-align: top;\n",
              "    }\n",
              "\n",
              "    .dataframe thead th {\n",
              "        text-align: right;\n",
              "    }\n",
              "</style>\n",
              "<table border=\"1\" class=\"dataframe\">\n",
              "  <thead>\n",
              "    <tr style=\"text-align: right;\">\n",
              "      <th></th>\n",
              "      <th>InvoiceNo</th>\n",
              "      <th>StockCode</th>\n",
              "      <th>Description</th>\n",
              "      <th>Quantity</th>\n",
              "      <th>InvoiceDate</th>\n",
              "      <th>UnitPrice</th>\n",
              "      <th>CustomerID</th>\n",
              "      <th>Country</th>\n",
              "    </tr>\n",
              "  </thead>\n",
              "  <tbody>\n",
              "    <tr>\n",
              "      <th>count</th>\n",
              "      <td>2076</td>\n",
              "      <td>2076</td>\n",
              "      <td>2076</td>\n",
              "      <td>2076.000000</td>\n",
              "      <td>2076</td>\n",
              "      <td>2076.000000</td>\n",
              "      <td>2076.0</td>\n",
              "      <td>2076</td>\n",
              "    </tr>\n",
              "    <tr>\n",
              "      <th>unique</th>\n",
              "      <td>73</td>\n",
              "      <td>700</td>\n",
              "      <td>718</td>\n",
              "      <td>NaN</td>\n",
              "      <td>73</td>\n",
              "      <td>NaN</td>\n",
              "      <td>NaN</td>\n",
              "      <td>1</td>\n",
              "    </tr>\n",
              "    <tr>\n",
              "      <th>top</th>\n",
              "      <td>572035</td>\n",
              "      <td>22629</td>\n",
              "      <td>SPACEBOY LUNCH BOX</td>\n",
              "      <td>NaN</td>\n",
              "      <td>2011-10-20 12:03:00</td>\n",
              "      <td>NaN</td>\n",
              "      <td>NaN</td>\n",
              "      <td>Netherlands</td>\n",
              "    </tr>\n",
              "    <tr>\n",
              "      <th>freq</th>\n",
              "      <td>125</td>\n",
              "      <td>25</td>\n",
              "      <td>25</td>\n",
              "      <td>NaN</td>\n",
              "      <td>125</td>\n",
              "      <td>NaN</td>\n",
              "      <td>NaN</td>\n",
              "      <td>2076</td>\n",
              "    </tr>\n",
              "    <tr>\n",
              "      <th>first</th>\n",
              "      <td>NaN</td>\n",
              "      <td>NaN</td>\n",
              "      <td>NaN</td>\n",
              "      <td>NaN</td>\n",
              "      <td>2010-12-20 10:09:00</td>\n",
              "      <td>NaN</td>\n",
              "      <td>NaN</td>\n",
              "      <td>NaN</td>\n",
              "    </tr>\n",
              "    <tr>\n",
              "      <th>last</th>\n",
              "      <td>NaN</td>\n",
              "      <td>NaN</td>\n",
              "      <td>NaN</td>\n",
              "      <td>NaN</td>\n",
              "      <td>2011-12-08 12:12:00</td>\n",
              "      <td>NaN</td>\n",
              "      <td>NaN</td>\n",
              "      <td>NaN</td>\n",
              "    </tr>\n",
              "    <tr>\n",
              "      <th>mean</th>\n",
              "      <td>NaN</td>\n",
              "      <td>NaN</td>\n",
              "      <td>NaN</td>\n",
              "      <td>94.853083</td>\n",
              "      <td>NaN</td>\n",
              "      <td>2.493300</td>\n",
              "      <td>14646.0</td>\n",
              "      <td>NaN</td>\n",
              "    </tr>\n",
              "    <tr>\n",
              "      <th>std</th>\n",
              "      <td>NaN</td>\n",
              "      <td>NaN</td>\n",
              "      <td>NaN</td>\n",
              "      <td>114.425893</td>\n",
              "      <td>NaN</td>\n",
              "      <td>4.644725</td>\n",
              "      <td>0.0</td>\n",
              "      <td>NaN</td>\n",
              "    </tr>\n",
              "    <tr>\n",
              "      <th>min</th>\n",
              "      <td>NaN</td>\n",
              "      <td>NaN</td>\n",
              "      <td>NaN</td>\n",
              "      <td>1.000000</td>\n",
              "      <td>NaN</td>\n",
              "      <td>0.190000</td>\n",
              "      <td>14646.0</td>\n",
              "      <td>NaN</td>\n",
              "    </tr>\n",
              "    <tr>\n",
              "      <th>25%</th>\n",
              "      <td>NaN</td>\n",
              "      <td>NaN</td>\n",
              "      <td>NaN</td>\n",
              "      <td>30.000000</td>\n",
              "      <td>NaN</td>\n",
              "      <td>0.850000</td>\n",
              "      <td>14646.0</td>\n",
              "      <td>NaN</td>\n",
              "    </tr>\n",
              "    <tr>\n",
              "      <th>50%</th>\n",
              "      <td>NaN</td>\n",
              "      <td>NaN</td>\n",
              "      <td>NaN</td>\n",
              "      <td>72.000000</td>\n",
              "      <td>NaN</td>\n",
              "      <td>1.450000</td>\n",
              "      <td>14646.0</td>\n",
              "      <td>NaN</td>\n",
              "    </tr>\n",
              "    <tr>\n",
              "      <th>75%</th>\n",
              "      <td>NaN</td>\n",
              "      <td>NaN</td>\n",
              "      <td>NaN</td>\n",
              "      <td>120.000000</td>\n",
              "      <td>NaN</td>\n",
              "      <td>2.550000</td>\n",
              "      <td>14646.0</td>\n",
              "      <td>NaN</td>\n",
              "    </tr>\n",
              "    <tr>\n",
              "      <th>max</th>\n",
              "      <td>NaN</td>\n",
              "      <td>NaN</td>\n",
              "      <td>NaN</td>\n",
              "      <td>2400.000000</td>\n",
              "      <td>NaN</td>\n",
              "      <td>110.000000</td>\n",
              "      <td>14646.0</td>\n",
              "      <td>NaN</td>\n",
              "    </tr>\n",
              "  </tbody>\n",
              "</table>\n",
              "</div>"
            ],
            "text/plain": [
              "       InvoiceNo StockCode  ... CustomerID      Country\n",
              "count       2076      2076  ...     2076.0         2076\n",
              "unique        73       700  ...        NaN            1\n",
              "top       572035     22629  ...        NaN  Netherlands\n",
              "freq         125        25  ...        NaN         2076\n",
              "first        NaN       NaN  ...        NaN          NaN\n",
              "last         NaN       NaN  ...        NaN          NaN\n",
              "mean         NaN       NaN  ...    14646.0          NaN\n",
              "std          NaN       NaN  ...        0.0          NaN\n",
              "min          NaN       NaN  ...    14646.0          NaN\n",
              "25%          NaN       NaN  ...    14646.0          NaN\n",
              "50%          NaN       NaN  ...    14646.0          NaN\n",
              "75%          NaN       NaN  ...    14646.0          NaN\n",
              "max          NaN       NaN  ...    14646.0          NaN\n",
              "\n",
              "[13 rows x 8 columns]"
            ]
          },
          "metadata": {
            "tags": []
          },
          "execution_count": 12
        }
      ]
    },
    {
      "cell_type": "markdown",
      "metadata": {
        "id": "UcCxS85hIwLb",
        "colab_type": "text"
      },
      "source": [
        "**On which year had the highest sales?**"
      ]
    },
    {
      "cell_type": "code",
      "metadata": {
        "id": "i-7RsisUI_gc",
        "colab_type": "code",
        "colab": {
          "base_uri": "https://localhost:8080/",
          "height": 51
        },
        "outputId": "e3ed9472-b21f-400d-cdf8-694319b30504"
      },
      "source": [
        "df[\"Year\"] = df.InvoiceDate.apply(lambda x: x.year)\n",
        "print(\"Year with highest sales (or money):\",df.groupby([\"Year\"]).sum().UnitPrice.idxmax())\n",
        "print(\"sale:\",df.groupby([\"Year\"]).sum().UnitPrice.max())"
      ],
      "execution_count": 14,
      "outputs": [
        {
          "output_type": "stream",
          "text": [
            "Year with highest sales (or money): 2011\n",
            "sale: 1871543.303995529\n"
          ],
          "name": "stdout"
        }
      ]
    },
    {
      "cell_type": "markdown",
      "metadata": {
        "id": "W-IKvzruKHXb",
        "colab_type": "text"
      },
      "source": [
        "**How many orders (per hour)?**"
      ]
    },
    {
      "cell_type": "code",
      "metadata": {
        "id": "RHS5ridWKQ4u",
        "colab_type": "code",
        "colab": {
          "base_uri": "https://localhost:8080/",
          "height": 514
        },
        "outputId": "5aa9ee32-fce3-4869-9580-f4084182ad0b"
      },
      "source": [
        "df[\"Hour\"] = df.InvoiceDate.apply(lambda x: x.hour)\n",
        "# Your code here\n",
        "df.groupby([\"Hour\"]).apply(lambda x: len(x.InvoiceNo.unique()))\n",
        "NoO_per_hour = pd.DataFrame(df.groupby([\"Hour\"]).apply(lambda x: len(x.InvoiceNo.unique())), columns=[\"Number of Order\"])\n",
        "NoO_per_hour.reset_index(level=0, inplace=True)\n",
        "NoO_per_hour"
      ],
      "execution_count": 27,
      "outputs": [
        {
          "output_type": "execute_result",
          "data": {
            "text/html": [
              "<div>\n",
              "<style scoped>\n",
              "    .dataframe tbody tr th:only-of-type {\n",
              "        vertical-align: middle;\n",
              "    }\n",
              "\n",
              "    .dataframe tbody tr th {\n",
              "        vertical-align: top;\n",
              "    }\n",
              "\n",
              "    .dataframe thead th {\n",
              "        text-align: right;\n",
              "    }\n",
              "</style>\n",
              "<table border=\"1\" class=\"dataframe\">\n",
              "  <thead>\n",
              "    <tr style=\"text-align: right;\">\n",
              "      <th></th>\n",
              "      <th>Hour</th>\n",
              "      <th>Number of Order</th>\n",
              "    </tr>\n",
              "  </thead>\n",
              "  <tbody>\n",
              "    <tr>\n",
              "      <th>0</th>\n",
              "      <td>6</td>\n",
              "      <td>1</td>\n",
              "    </tr>\n",
              "    <tr>\n",
              "      <th>1</th>\n",
              "      <td>7</td>\n",
              "      <td>29</td>\n",
              "    </tr>\n",
              "    <tr>\n",
              "      <th>2</th>\n",
              "      <td>8</td>\n",
              "      <td>566</td>\n",
              "    </tr>\n",
              "    <tr>\n",
              "      <th>3</th>\n",
              "      <td>9</td>\n",
              "      <td>1484</td>\n",
              "    </tr>\n",
              "    <tr>\n",
              "      <th>4</th>\n",
              "      <td>10</td>\n",
              "      <td>2361</td>\n",
              "    </tr>\n",
              "    <tr>\n",
              "      <th>5</th>\n",
              "      <td>11</td>\n",
              "      <td>2396</td>\n",
              "    </tr>\n",
              "    <tr>\n",
              "      <th>6</th>\n",
              "      <td>12</td>\n",
              "      <td>3220</td>\n",
              "    </tr>\n",
              "    <tr>\n",
              "      <th>7</th>\n",
              "      <td>13</td>\n",
              "      <td>2753</td>\n",
              "    </tr>\n",
              "    <tr>\n",
              "      <th>8</th>\n",
              "      <td>14</td>\n",
              "      <td>2457</td>\n",
              "    </tr>\n",
              "    <tr>\n",
              "      <th>9</th>\n",
              "      <td>15</td>\n",
              "      <td>2336</td>\n",
              "    </tr>\n",
              "    <tr>\n",
              "      <th>10</th>\n",
              "      <td>16</td>\n",
              "      <td>1335</td>\n",
              "    </tr>\n",
              "    <tr>\n",
              "      <th>11</th>\n",
              "      <td>17</td>\n",
              "      <td>667</td>\n",
              "    </tr>\n",
              "    <tr>\n",
              "      <th>12</th>\n",
              "      <td>18</td>\n",
              "      <td>192</td>\n",
              "    </tr>\n",
              "    <tr>\n",
              "      <th>13</th>\n",
              "      <td>19</td>\n",
              "      <td>146</td>\n",
              "    </tr>\n",
              "    <tr>\n",
              "      <th>14</th>\n",
              "      <td>20</td>\n",
              "      <td>18</td>\n",
              "    </tr>\n",
              "  </tbody>\n",
              "</table>\n",
              "</div>"
            ],
            "text/plain": [
              "    Hour  Number of Order\n",
              "0      6                1\n",
              "1      7               29\n",
              "2      8              566\n",
              "3      9             1484\n",
              "4     10             2361\n",
              "5     11             2396\n",
              "6     12             3220\n",
              "7     13             2753\n",
              "8     14             2457\n",
              "9     15             2336\n",
              "10    16             1335\n",
              "11    17              667\n",
              "12    18              192\n",
              "13    19              146\n",
              "14    20               18"
            ]
          },
          "metadata": {
            "tags": []
          },
          "execution_count": 27
        }
      ]
    },
    {
      "cell_type": "markdown",
      "metadata": {
        "id": "dqCZUmx0KKfS",
        "colab_type": "text"
      },
      "source": [
        "**Make a plot about number of orders per hour**"
      ]
    },
    {
      "cell_type": "code",
      "metadata": {
        "id": "-KPgD51AKKE6",
        "colab_type": "code",
        "colab": {
          "base_uri": "https://localhost:8080/",
          "height": 300
        },
        "outputId": "38fdc573-1094-4f34-d6f0-9b5d71d1a774"
      },
      "source": [
        "sns.lineplot(x=\"Hour\", y=\"Number of Order\", data=NoO_per_hour)"
      ],
      "execution_count": 28,
      "outputs": [
        {
          "output_type": "execute_result",
          "data": {
            "text/plain": [
              "<matplotlib.axes._subplots.AxesSubplot at 0x7f13702eefd0>"
            ]
          },
          "metadata": {
            "tags": []
          },
          "execution_count": 28
        },
        {
          "output_type": "display_data",
          "data": {
            "image/png": "[encoded data removed]",
            "text/plain": [
              "<Figure size 432x288 with 1 Axes>"
            ]
          },
          "metadata": {
            "tags": []
          }
        }
      ]
    },
    {
      "cell_type": "markdown",
      "metadata": {
        "colab_type": "text",
        "id": "-8ZwTvS6L0vS"
      },
      "source": [
        "**How many orders (per month)?**"
      ]
    },
    {
      "cell_type": "code",
      "metadata": {
        "colab_type": "code",
        "id": "NeOp_6a3L0vX",
        "colab": {
          "base_uri": "https://localhost:8080/",
          "height": 421
        },
        "outputId": "4837a488-2147-4662-be17-43500946a1e1"
      },
      "source": [
        "df[\"Month\"] = df.InvoiceDate.apply(lambda x: x.month)\n",
        "# Your code here\n",
        "df.groupby([\"Month\"]).apply(lambda x: len(x.InvoiceNo.unique()))\n",
        "NoO_per_month = pd.DataFrame(df.groupby([\"Month\"]).apply(lambda x: len(x.InvoiceNo.unique())), columns=[\"Number of Order\"])\n",
        "NoO_per_month.reset_index(level=0, inplace=True)\n",
        "NoO_per_month"
      ],
      "execution_count": 29,
      "outputs": [
        {
          "output_type": "execute_result",
          "data": {
            "text/html": [
              "<div>\n",
              "<style scoped>\n",
              "    .dataframe tbody tr th:only-of-type {\n",
              "        vertical-align: middle;\n",
              "    }\n",
              "\n",
              "    .dataframe tbody tr th {\n",
              "        vertical-align: top;\n",
              "    }\n",
              "\n",
              "    .dataframe thead th {\n",
              "        text-align: right;\n",
              "    }\n",
              "</style>\n",
              "<table border=\"1\" class=\"dataframe\">\n",
              "  <thead>\n",
              "    <tr style=\"text-align: right;\">\n",
              "      <th></th>\n",
              "      <th>Month</th>\n",
              "      <th>Number of Order</th>\n",
              "    </tr>\n",
              "  </thead>\n",
              "  <tbody>\n",
              "    <tr>\n",
              "      <th>0</th>\n",
              "      <td>1</td>\n",
              "      <td>1086</td>\n",
              "    </tr>\n",
              "    <tr>\n",
              "      <th>1</th>\n",
              "      <td>2</td>\n",
              "      <td>1100</td>\n",
              "    </tr>\n",
              "    <tr>\n",
              "      <th>2</th>\n",
              "      <td>3</td>\n",
              "      <td>1454</td>\n",
              "    </tr>\n",
              "    <tr>\n",
              "      <th>3</th>\n",
              "      <td>4</td>\n",
              "      <td>1246</td>\n",
              "    </tr>\n",
              "    <tr>\n",
              "      <th>4</th>\n",
              "      <td>5</td>\n",
              "      <td>1681</td>\n",
              "    </tr>\n",
              "    <tr>\n",
              "      <th>5</th>\n",
              "      <td>6</td>\n",
              "      <td>1533</td>\n",
              "    </tr>\n",
              "    <tr>\n",
              "      <th>6</th>\n",
              "      <td>7</td>\n",
              "      <td>1475</td>\n",
              "    </tr>\n",
              "    <tr>\n",
              "      <th>7</th>\n",
              "      <td>8</td>\n",
              "      <td>1361</td>\n",
              "    </tr>\n",
              "    <tr>\n",
              "      <th>8</th>\n",
              "      <td>9</td>\n",
              "      <td>1837</td>\n",
              "    </tr>\n",
              "    <tr>\n",
              "      <th>9</th>\n",
              "      <td>10</td>\n",
              "      <td>2040</td>\n",
              "    </tr>\n",
              "    <tr>\n",
              "      <th>10</th>\n",
              "      <td>11</td>\n",
              "      <td>2769</td>\n",
              "    </tr>\n",
              "    <tr>\n",
              "      <th>11</th>\n",
              "      <td>12</td>\n",
              "      <td>2378</td>\n",
              "    </tr>\n",
              "  </tbody>\n",
              "</table>\n",
              "</div>"
            ],
            "text/plain": [
              "    Month  Number of Order\n",
              "0       1             1086\n",
              "1       2             1100\n",
              "2       3             1454\n",
              "3       4             1246\n",
              "4       5             1681\n",
              "5       6             1533\n",
              "6       7             1475\n",
              "7       8             1361\n",
              "8       9             1837\n",
              "9      10             2040\n",
              "10     11             2769\n",
              "11     12             2378"
            ]
          },
          "metadata": {
            "tags": []
          },
          "execution_count": 29
        }
      ]
    },
    {
      "cell_type": "markdown",
      "metadata": {
        "colab_type": "text",
        "id": "sOYrMUczL0vb"
      },
      "source": [
        "**Make a plot about number of orders per month**"
      ]
    },
    {
      "cell_type": "code",
      "metadata": {
        "id": "e7RJQ5MbL4cY",
        "colab_type": "code",
        "colab": {
          "base_uri": "https://localhost:8080/",
          "height": 300
        },
        "outputId": "b4b823f1-d89f-42e6-e044-62d6b42cd37c"
      },
      "source": [
        "sns.lineplot(x=\"Month\", y=\"Number of Order\", data=NoO_per_month)"
      ],
      "execution_count": 30,
      "outputs": [
        {
          "output_type": "execute_result",
          "data": {
            "text/plain": [
              "<matplotlib.axes._subplots.AxesSubplot at 0x7f13701f93c8>"
            ]
          },
          "metadata": {
            "tags": []
          },
          "execution_count": 30
        },
        {
          "output_type": "display_data",
          "data": {
            "image/png": "[encoded data removed]",
            "text/plain": [
              "<Figure size 432x288 with 1 Axes>"
            ]
          },
          "metadata": {
            "tags": []
          }
        }
      ]
    },
    {
      "cell_type": "markdown",
      "metadata": {
        "id": "E3eeyQeBLd6e",
        "colab_type": "text"
      },
      "source": [
        "**Top 10 items most sales**"
      ]
    },
    {
      "cell_type": "code",
      "metadata": {
        "id": "4trjB9ZjLhEv",
        "colab_type": "code",
        "colab": {
          "base_uri": "https://localhost:8080/",
          "height": 390
        },
        "outputId": "cb29e163-b2cb-41ae-d339-1fefe1aeb7ef"
      },
      "source": [
        "df.groupby([\"StockCode\"]).sum().sort_values(by=\"Quantity\",ascending=False).head(10)"
      ],
      "execution_count": 35,
      "outputs": [
        {
          "output_type": "execute_result",
          "data": {
            "text/html": [
              "<div>\n",
              "<style scoped>\n",
              "    .dataframe tbody tr th:only-of-type {\n",
              "        vertical-align: middle;\n",
              "    }\n",
              "\n",
              "    .dataframe tbody tr th {\n",
              "        vertical-align: top;\n",
              "    }\n",
              "\n",
              "    .dataframe thead th {\n",
              "        text-align: right;\n",
              "    }\n",
              "</style>\n",
              "<table border=\"1\" class=\"dataframe\">\n",
              "  <thead>\n",
              "    <tr style=\"text-align: right;\">\n",
              "      <th></th>\n",
              "      <th>Quantity</th>\n",
              "      <th>UnitPrice</th>\n",
              "      <th>CustomerID</th>\n",
              "      <th>Year</th>\n",
              "      <th>Hour</th>\n",
              "      <th>Month</th>\n",
              "    </tr>\n",
              "    <tr>\n",
              "      <th>StockCode</th>\n",
              "      <th></th>\n",
              "      <th></th>\n",
              "      <th></th>\n",
              "      <th></th>\n",
              "      <th></th>\n",
              "      <th></th>\n",
              "    </tr>\n",
              "  </thead>\n",
              "  <tbody>\n",
              "    <tr>\n",
              "      <th>23843</th>\n",
              "      <td>80995</td>\n",
              "      <td>2.08</td>\n",
              "      <td>16446.0</td>\n",
              "      <td>2011</td>\n",
              "      <td>9</td>\n",
              "      <td>12</td>\n",
              "    </tr>\n",
              "    <tr>\n",
              "      <th>23166</th>\n",
              "      <td>78033</td>\n",
              "      <td>367.12</td>\n",
              "      <td>3047321.0</td>\n",
              "      <td>502750</td>\n",
              "      <td>3292</td>\n",
              "      <td>2066</td>\n",
              "    </tr>\n",
              "    <tr>\n",
              "      <th>22197</th>\n",
              "      <td>56921</td>\n",
              "      <td>1486.56</td>\n",
              "      <td>16490386.0</td>\n",
              "      <td>2867562</td>\n",
              "      <td>18385</td>\n",
              "      <td>11018</td>\n",
              "    </tr>\n",
              "    <tr>\n",
              "      <th>84077</th>\n",
              "      <td>55047</td>\n",
              "      <td>172.20</td>\n",
              "      <td>7226036.0</td>\n",
              "      <td>1079867</td>\n",
              "      <td>6790</td>\n",
              "      <td>4149</td>\n",
              "    </tr>\n",
              "    <tr>\n",
              "      <th>85099B</th>\n",
              "      <td>48474</td>\n",
              "      <td>5249.29</td>\n",
              "      <td>24748363.0</td>\n",
              "      <td>4247112</td>\n",
              "      <td>26826</td>\n",
              "      <td>14911</td>\n",
              "    </tr>\n",
              "    <tr>\n",
              "      <th>85123A</th>\n",
              "      <td>37660</td>\n",
              "      <td>7059.89</td>\n",
              "      <td>31667793.0</td>\n",
              "      <td>4554686</td>\n",
              "      <td>29008</td>\n",
              "      <td>15698</td>\n",
              "    </tr>\n",
              "    <tr>\n",
              "      <th>84879</th>\n",
              "      <td>36461</td>\n",
              "      <td>2564.49</td>\n",
              "      <td>21450268.0</td>\n",
              "      <td>2994274</td>\n",
              "      <td>18899</td>\n",
              "      <td>10855</td>\n",
              "    </tr>\n",
              "    <tr>\n",
              "      <th>21212</th>\n",
              "      <td>36419</td>\n",
              "      <td>1039.05</td>\n",
              "      <td>16135698.0</td>\n",
              "      <td>2754968</td>\n",
              "      <td>17595</td>\n",
              "      <td>9330</td>\n",
              "    </tr>\n",
              "    <tr>\n",
              "      <th>23084</th>\n",
              "      <td>30788</td>\n",
              "      <td>2466.20</td>\n",
              "      <td>12564016.0</td>\n",
              "      <td>2083396</td>\n",
              "      <td>13472</td>\n",
              "      <td>10053</td>\n",
              "    </tr>\n",
              "    <tr>\n",
              "      <th>22492</th>\n",
              "      <td>26633</td>\n",
              "      <td>298.31</td>\n",
              "      <td>4780324.0</td>\n",
              "      <td>764148</td>\n",
              "      <td>4720</td>\n",
              "      <td>2816</td>\n",
              "    </tr>\n",
              "  </tbody>\n",
              "</table>\n",
              "</div>"
            ],
            "text/plain": [
              "           Quantity  UnitPrice  CustomerID     Year   Hour  Month\n",
              "StockCode                                                        \n",
              "23843         80995       2.08     16446.0     2011      9     12\n",
              "23166         78033     367.12   3047321.0   502750   3292   2066\n",
              "22197         56921    1486.56  16490386.0  2867562  18385  11018\n",
              "84077         55047     172.20   7226036.0  1079867   6790   4149\n",
              "85099B        48474    5249.29  24748363.0  4247112  26826  14911\n",
              "85123A        37660    7059.89  31667793.0  4554686  29008  15698\n",
              "84879         36461    2564.49  21450268.0  2994274  18899  10855\n",
              "21212         36419    1039.05  16135698.0  2754968  17595   9330\n",
              "23084         30788    2466.20  12564016.0  2083396  13472  10053\n",
              "22492         26633     298.31   4780324.0   764148   4720   2816"
            ]
          },
          "metadata": {
            "tags": []
          },
          "execution_count": 35
        }
      ]
    },
    {
      "cell_type": "markdown",
      "metadata": {
        "id": "ggak_TMtLh5o",
        "colab_type": "text"
      },
      "source": [
        ""
      ]
    },
    {
      "cell_type": "markdown",
      "metadata": {
        "id": "-dEBLw1uPm1-",
        "colab_type": "text"
      },
      "source": [
        "**Create a histogram with the 10 countries that have the most 'Quantity' ordered except UK**"
      ]
    },
    {
      "cell_type": "code",
      "metadata": {
        "id": "_N-UF331Pm1-",
        "colab_type": "code",
        "colab": {
          "base_uri": "https://localhost:8080/",
          "height": 493
        },
        "outputId": "ace97587-bedc-478d-b698-69e9814000a7"
      },
      "source": [
        "# Your code here\n",
        "\n",
        "# What can you tell about this?\n",
        "countries_gr = df[df.Country != \"United Kingdom\"].groupby([\"Country\"]).sum()\n",
        "countries_gr.reset_index(level=0,inplace=True)\n",
        "countries_gr.head()\n",
        "g = sns.barplot(x=\"Country\", y=\"Quantity\", data=countries_gr.sort_values(by=\"Quantity\",ascending=False).head(10))\n",
        "g.set_xticklabels(labels=countries_gr.sort_values(by=\"Quantity\",ascending=False).head(10).Country,rotation=45)"
      ],
      "execution_count": 44,
      "outputs": [
        {
          "output_type": "execute_result",
          "data": {
            "text/plain": [
              "[Text(0, 0, 'Netherlands'),\n",
              " Text(0, 0, 'EIRE'),\n",
              " Text(0, 0, 'Germany'),\n",
              " Text(0, 0, 'France'),\n",
              " Text(0, 0, 'Australia'),\n",
              " Text(0, 0, 'Sweden'),\n",
              " Text(0, 0, 'Switzerland'),\n",
              " Text(0, 0, 'Spain'),\n",
              " Text(0, 0, 'Japan'),\n",
              " Text(0, 0, 'Belgium')]"
            ]
          },
          "metadata": {
            "tags": []
          },
          "execution_count": 44
        },
        {
          "output_type": "display_data",
          "data": {
            "image/png": "[encoded data removed]",
            "text/plain": [
              "<Figure size 432x288 with 1 Axes>"
            ]
          },
          "metadata": {
            "tags": []
          }
        }
      ]
    },
    {
      "cell_type": "markdown",
      "metadata": {
        "id": "MoBgPjDiwhdV",
        "colab_type": "text"
      },
      "source": [
        "### You are awesome!!"
      ]
    }
  ]
}